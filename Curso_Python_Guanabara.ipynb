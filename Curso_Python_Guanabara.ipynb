{
  "nbformat": 4,
  "nbformat_minor": 0,
  "metadata": {
    "colab": {
      "provenance": [],
      "authorship_tag": "ABX9TyPoENMWD3uKqaV4bNlhoh3r",
      "include_colab_link": true
    },
    "kernelspec": {
      "name": "python3",
      "display_name": "Python 3"
    },
    "language_info": {
      "name": "python"
    }
  },
  "cells": [
    {
      "cell_type": "markdown",
      "metadata": {
        "id": "view-in-github",
        "colab_type": "text"
      },
      "source": [
        "<a href=\"https://colab.research.google.com/github/gcavaco/LuisGustavoUniDev/blob/master/Curso_Python_Guanabara.ipynb\" target=\"_parent\"><img src=\"https://colab.research.google.com/assets/colab-badge.svg\" alt=\"Open In Colab\"/></a>"
      ]
    },
    {
      "cell_type": "markdown",
      "source": [
        "Aula 04 - Guanabara, primeiros códigos."
      ],
      "metadata": {
        "id": "RjvzzxDK6jwk"
      }
    },
    {
      "cell_type": "code",
      "execution_count": null,
      "metadata": {
        "colab": {
          "base_uri": "https://localhost:8080/"
        },
        "id": "0GfjRJwS5zKg",
        "outputId": "1558a1cc-81a3-4a9f-ebfa-f31cd3423c07"
      },
      "outputs": [
        {
          "output_type": "stream",
          "name": "stdout",
          "text": [
            "Olá, Mundo!\n"
          ]
        }
      ],
      "source": [
        "print('Olá, Mundo!')"
      ]
    },
    {
      "cell_type": "code",
      "source": [
        "print ('oi')"
      ],
      "metadata": {
        "colab": {
          "base_uri": "https://localhost:8080/"
        },
        "id": "Dq2ZxwydCZPN",
        "outputId": "5c97b61c-4cf4-4a41-ca32-df80fbdac440"
      },
      "execution_count": null,
      "outputs": [
        {
          "output_type": "stream",
          "name": "stdout",
          "text": [
            "oi\n"
          ]
        }
      ]
    },
    {
      "cell_type": "code",
      "source": [
        "print(7+4)"
      ],
      "metadata": {
        "colab": {
          "base_uri": "https://localhost:8080/"
        },
        "id": "1YsL393iCjnW",
        "outputId": "8c96c83f-a55b-45ca-92c1-f2f6722242bb"
      },
      "execution_count": null,
      "outputs": [
        {
          "output_type": "stream",
          "name": "stdout",
          "text": [
            "11\n"
          ]
        }
      ]
    },
    {
      "cell_type": "code",
      "source": [
        "print('7' + '4')"
      ],
      "metadata": {
        "colab": {
          "base_uri": "https://localhost:8080/"
        },
        "id": "EAYPeUVJDNxy",
        "outputId": "9a55ba72-da42-421b-d910-1311adbb1b1b"
      },
      "execution_count": null,
      "outputs": [
        {
          "output_type": "stream",
          "name": "stdout",
          "text": [
            "74\n"
          ]
        }
      ]
    },
    {
      "cell_type": "code",
      "source": [
        "7+4"
      ],
      "metadata": {
        "colab": {
          "base_uri": "https://localhost:8080/"
        },
        "id": "XG5n0s34D4Ys",
        "outputId": "4ba1272c-3134-4a11-af18-2d1f738527a4"
      },
      "execution_count": null,
      "outputs": [
        {
          "output_type": "execute_result",
          "data": {
            "text/plain": [
              "11"
            ]
          },
          "metadata": {},
          "execution_count": 9
        }
      ]
    },
    {
      "cell_type": "code",
      "source": [
        "'7' + '4'"
      ],
      "metadata": {
        "colab": {
          "base_uri": "https://localhost:8080/",
          "height": 35
        },
        "id": "f1Hqgx0cEDIG",
        "outputId": "a43c737f-53d6-4352-ff13-7eb199a400f2"
      },
      "execution_count": null,
      "outputs": [
        {
          "output_type": "execute_result",
          "data": {
            "text/plain": [
              "'74'"
            ],
            "application/vnd.google.colaboratory.intrinsic+json": {
              "type": "string"
            }
          },
          "metadata": {},
          "execution_count": 10
        }
      ]
    },
    {
      "cell_type": "code",
      "source": [
        "print('Olá' ,5)"
      ],
      "metadata": {
        "colab": {
          "base_uri": "https://localhost:8080/"
        },
        "id": "Aqvnl3X4EFvV",
        "outputId": "5df6d05f-4a39-4468-8936-b3afc67f9b61"
      },
      "execution_count": null,
      "outputs": [
        {
          "output_type": "stream",
          "name": "stdout",
          "text": [
            "Olá 5\n"
          ]
        }
      ]
    },
    {
      "cell_type": "markdown",
      "source": [
        "# Criando as Variáveis"
      ],
      "metadata": {
        "id": "Dgwv0LXLERt9"
      }
    },
    {
      "cell_type": "code",
      "source": [
        "nome = 'Luís Gustavo'\n",
        "idade = 36\n",
        "peso = 90\n",
        "print(nome, idade, peso)"
      ],
      "metadata": {
        "colab": {
          "base_uri": "https://localhost:8080/"
        },
        "id": "kDhRGfQfEPh1",
        "outputId": "ba3c2c98-3eb1-447a-d717-bcf246a050d0"
      },
      "execution_count": null,
      "outputs": [
        {
          "output_type": "stream",
          "name": "stdout",
          "text": [
            "Luís Gustavo 36 90\n"
          ]
        }
      ]
    },
    {
      "cell_type": "code",
      "source": [
        "nome = input('Qual é o seu nome? ')\n",
        "idade = input('Quantos anos você tem? ')\n",
        "peso = input('Quanto você pesa? ')\n",
        "print(nome, idade, peso)"
      ],
      "metadata": {
        "colab": {
          "base_uri": "https://localhost:8080/"
        },
        "id": "j3wcucOuFHHz",
        "outputId": "54f98c0b-e199-4120-851f-75f3ed4fe1e2"
      },
      "execution_count": null,
      "outputs": [
        {
          "output_type": "stream",
          "name": "stdout",
          "text": [
            "Qual é o seu nome? LG\n",
            "Quantos anos você tem? 36\n",
            "Quanto você pesa? 90\n",
            "LG 36 90\n"
          ]
        }
      ]
    },
    {
      "cell_type": "markdown",
      "source": [
        "#DESAFIO 01"
      ],
      "metadata": {
        "id": "s3pbhBqPHhhD"
      }
    },
    {
      "cell_type": "code",
      "source": [
        "nome1 = input('Qual é o seu nome? ')\n",
        "print('Olá', nome1, '! Prazer em te conhecer!')\n",
        "print('É um prazer te conhecer, {}!'.format(nome1))"
      ],
      "metadata": {
        "colab": {
          "base_uri": "https://localhost:8080/"
        },
        "id": "5HC4VZz5Hknp",
        "outputId": "51d27f8e-57b8-4406-fa8b-c38ddcfb0e89"
      },
      "execution_count": null,
      "outputs": [
        {
          "output_type": "stream",
          "name": "stdout",
          "text": [
            "Qual é o seu nome? LG\n",
            "Olá LG ! Prazer em te conhecer!\n",
            "É um prazer te conhecer, LG!\n"
          ]
        }
      ]
    },
    {
      "cell_type": "markdown",
      "source": [
        "#DESAFIO 02"
      ],
      "metadata": {
        "id": "xa1w-acxIg-7"
      }
    },
    {
      "cell_type": "code",
      "source": [
        "dia = input('Que dia você nasceu? ')\n",
        "mes = input('Que mês você nasceu? ')\n",
        "ano = input('Que ano você nasceu? ')\n",
        "print('Você nasceu no dia', dia, 'de', mes, 'de', ano, '. Correto?')"
      ],
      "metadata": {
        "colab": {
          "base_uri": "https://localhost:8080/"
        },
        "id": "zyaHdvOjIie0",
        "outputId": "052cb27b-e224-4f23-c47f-f23088b24cff"
      },
      "execution_count": null,
      "outputs": [
        {
          "output_type": "stream",
          "name": "stdout",
          "text": [
            "Que dia você nasceu? 08\n",
            "Que mês você nasceu? 05\n",
            "Que ano você nasceu? 1988\n",
            "Você nasceu no dia 08 de 05 de 1988 . Correto?\n"
          ]
        }
      ]
    },
    {
      "cell_type": "markdown",
      "source": [
        "#DESAFIO 03"
      ],
      "metadata": {
        "id": "i_FsUcPRI6_U"
      }
    },
    {
      "cell_type": "code",
      "source": [
        "num1 = int(input('Digite um número: '))\n",
        "num2 = int(input('Digite outro número: '))\n",
        "soma = num1 + num2\n",
        "print('A soma é entre', num1, 'e', num2, 'vale', soma)\n",
        "print(f'A soma é entre {num1} e {num2} vale {soma}')"
      ],
      "metadata": {
        "colab": {
          "base_uri": "https://localhost:8080/"
        },
        "id": "E5LFxleGI-0V",
        "outputId": "a5768b10-6706-48c0-dd12-99f9976cc49d"
      },
      "execution_count": null,
      "outputs": [
        {
          "output_type": "stream",
          "name": "stdout",
          "text": [
            "Digite um número: 3\n",
            "Digite outro número: 9\n",
            "A soma é entre 3 e 9 vale 12\n",
            "A soma é entre 3 e 9 vale 12\n"
          ]
        }
      ]
    },
    {
      "cell_type": "markdown",
      "source": [
        "# **AULA 06 - TIPOS PRIMITIVOS E SAÍDA DE DADOS**\n",
        "\n",
        "\n",
        "\n"
      ],
      "metadata": {
        "id": "hZ3jEiLsTgk3"
      }
    },
    {
      "cell_type": "markdown",
      "source": [
        "int = 7 -4 0 9875\n",
        "float = 4.5 0.076 -15.223 7.0\n",
        "bool = True False\n",
        "str = 'Olá', '7.5', ''"
      ],
      "metadata": {
        "id": "lXAMwch77cZc"
      }
    },
    {
      "cell_type": "code",
      "source": [
        "int = 7\n",
        "float = 4.5\n",
        "bool = True\n",
        "str = ''\n",
        "print(type(num1))\n",
        "print('A soma vale', soma)\n",
        "print(f'A soma vale{soma}')"
      ],
      "metadata": {
        "id": "zjH9ACyiTrCf"
      },
      "execution_count": null,
      "outputs": []
    },
    {
      "cell_type": "code",
      "source": [
        "n = input('Digite um valor: ')\n",
        "print(n.isnumeric())\n",
        "print(n.isalpha())\n",
        "print(n.isalnum())\n",
        "print(n.isupper())"
      ],
      "metadata": {
        "colab": {
          "base_uri": "https://localhost:8080/"
        },
        "id": "z60M66imM9ew",
        "outputId": "09af55aa-4edc-4251-dfe8-cfe5cbca3b77"
      },
      "execution_count": null,
      "outputs": [
        {
          "output_type": "stream",
          "name": "stdout",
          "text": [
            "Digite um valor: 1\n",
            "True\n",
            "False\n",
            "True\n",
            "False\n"
          ]
        }
      ]
    },
    {
      "cell_type": "markdown",
      "source": [
        "# DESAFIO 003\n",
        "\n",
        "\n",
        "1.   Crie um programa que leia dois números e mostre a soma entre eles\n",
        "\n",
        "\n",
        "\n"
      ],
      "metadata": {
        "id": "yuOdo8QZNBP3"
      }
    },
    {
      "cell_type": "code",
      "source": [
        "a1 = int(input('Digite um número: '))\n",
        "a2 = int(input('Digite outro número: '))\n",
        "asoma = a1 + a2\n",
        "print(f'A soma do número {a1} com o número {a2} é igual a: {asoma}')"
      ],
      "metadata": {
        "colab": {
          "base_uri": "https://localhost:8080/"
        },
        "id": "FSg2WUkcNER4",
        "outputId": "ded7860b-f963-4843-b521-1bcaf59704ca"
      },
      "execution_count": null,
      "outputs": [
        {
          "output_type": "stream",
          "name": "stdout",
          "text": [
            "Digite um número: 578\n",
            "Digite outro número: 1\n",
            "A soma do número 578 com o número 1 é igual a: 579\n"
          ]
        }
      ]
    },
    {
      "cell_type": "markdown",
      "source": [
        "# DESAFIO 004\n",
        "\n",
        "1.   Faça um programa que leia algo pelo teclado e mostre o seu tipo primitivo e todas as informações possíveis sobre ele\n",
        "\n"
      ],
      "metadata": {
        "id": "tRCA0hM2NEwg"
      }
    },
    {
      "cell_type": "code",
      "source": [
        "prim = input('Digite algo: ')\n",
        "print(f'O tipo primitivo desse valor é {type(prim)}')\n",
        "print('O tipo primitivo desse valor é', type(prim))\n",
        "print(f'É um número?', prim.isnumeric())\n",
        "print(f'É alfabético?', prim.isalpha())\n",
        "print(f'É alfanumérico?', prim.isalnum())\n",
        "print(f'Está em maiúsculas?', prim.isupper())\n",
        "print(f'Está em minúsculas?', prim.islower())\n",
        "print(f'Está capitalizada?', prim.istitle())\n",
        "print(f'É imprimível?', prim.isprintable())\n",
        "print(f'É um espaço?', prim.isspace())"
      ],
      "metadata": {
        "colab": {
          "base_uri": "https://localhost:8080/"
        },
        "id": "OaNqojiWNGpI",
        "outputId": "3336eac3-5c42-468e-a8f3-2062bcc110d2"
      },
      "execution_count": null,
      "outputs": [
        {
          "output_type": "stream",
          "name": "stdout",
          "text": [
            "Digite algo: Teste\n",
            "O tipo primitivo desse valor é <class 'str'>\n",
            "O tipo primitivo desse valor é <class 'str'>\n",
            "É um número? False\n",
            "É alfabético? True\n",
            "É alfanumérico? True\n",
            "Está em maiúsculas? False\n",
            "Está em minúsculas? False\n",
            "Está capitalizada? True\n",
            "É imprimível? True\n",
            "É um espaço? False\n"
          ]
        }
      ]
    },
    {
      "cell_type": "markdown",
      "source": [
        "# **AULA 07 - OPERADORES ARITMÉTICOS**"
      ],
      "metadata": {
        "id": "LGLyozIee7Qr"
      }
    },
    {
      "cell_type": "code",
      "source": [
        "n1 = int(input('Digite um número: '))\n",
        "n2 = int(input('Digite outro número: '))\n",
        "s = n1 + n2\n",
        "print('A soma é entre', n1, 'e', n2, 'vale', s)\n",
        "print(f'A soma é entre {n1} e {n2} vale {s}')"
      ],
      "metadata": {
        "colab": {
          "base_uri": "https://localhost:8080/"
        },
        "id": "7tJ2ubIwfDKi",
        "outputId": "5a3c1d00-df20-4637-cc4f-c19856756247"
      },
      "execution_count": null,
      "outputs": [
        {
          "output_type": "stream",
          "name": "stdout",
          "text": [
            "Digite um número: 7\n",
            "Digite outro número: 3\n",
            "A soma é entre 7 e 3 vale 10\n",
            "A soma é entre 7 e 3 vale 10\n"
          ]
        }
      ]
    },
    {
      "cell_type": "markdown",
      "source": [
        "+ Adição     - Subtração    * Multiplicação    / Divisão   ** Potência   // Divisão inteira   % Resto da divisão\n",
        "\n",
        "5+2\n",
        "5-2\n",
        "5*2\n",
        "5/2\n",
        "5**2\n",
        "5//2\n",
        "5%2\n"
      ],
      "metadata": {
        "id": "t4vLOSKIIw8k"
      }
    },
    {
      "cell_type": "code",
      "source": [
        "5%2"
      ],
      "metadata": {
        "colab": {
          "base_uri": "https://localhost:8080/"
        },
        "id": "eZyBaUH_Ipjy",
        "outputId": "b0b3fef5-0b64-43ad-f5e8-88bd976a94ec"
      },
      "execution_count": null,
      "outputs": [
        {
          "output_type": "execute_result",
          "data": {
            "text/plain": [
              "1"
            ]
          },
          "metadata": {},
          "execution_count": 6
        }
      ]
    },
    {
      "cell_type": "markdown",
      "source": [
        "Ordem de Precedência\n",
        "![Capture.PNG](data:image/png;base64,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)"
      ],
      "metadata": {
        "id": "sh6Sgb44fVvt"
      }
    },
    {
      "cell_type": "code",
      "source": [
        "5+3*2"
      ],
      "metadata": {
        "colab": {
          "base_uri": "https://localhost:8080/"
        },
        "id": "hX929uyuf8hd",
        "outputId": "a6790892-89f8-471e-8a14-f8e5a98ac500"
      },
      "execution_count": null,
      "outputs": [
        {
          "output_type": "execute_result",
          "data": {
            "text/plain": [
              "11"
            ]
          },
          "metadata": {},
          "execution_count": 7
        }
      ]
    },
    {
      "cell_type": "code",
      "source": [
        "3*5+4**2"
      ],
      "metadata": {
        "colab": {
          "base_uri": "https://localhost:8080/"
        },
        "id": "0jqSdvZxm6M1",
        "outputId": "1b21a941-1ecf-4c7c-9f7c-180ea127bbf2"
      },
      "execution_count": null,
      "outputs": [
        {
          "output_type": "execute_result",
          "data": {
            "text/plain": [
              "31"
            ]
          },
          "metadata": {},
          "execution_count": 1
        }
      ]
    },
    {
      "cell_type": "code",
      "source": [
        "3*(5+4)**2"
      ],
      "metadata": {
        "colab": {
          "base_uri": "https://localhost:8080/"
        },
        "id": "oA4PcUq6nN__",
        "outputId": "c2e5c624-af67-420e-f4e6-16ff5dca14ae"
      },
      "execution_count": null,
      "outputs": [
        {
          "output_type": "execute_result",
          "data": {
            "text/plain": [
              "243"
            ]
          },
          "metadata": {},
          "execution_count": 2
        }
      ]
    },
    {
      "cell_type": "code",
      "source": [
        "4**3"
      ],
      "metadata": {
        "colab": {
          "base_uri": "https://localhost:8080/"
        },
        "id": "kkYywiHOp08t",
        "outputId": "3516d617-6468-4bd2-9e6d-7f32a4587a1f"
      },
      "execution_count": null,
      "outputs": [
        {
          "output_type": "execute_result",
          "data": {
            "text/plain": [
              "64"
            ]
          },
          "metadata": {},
          "execution_count": 3
        }
      ]
    },
    {
      "cell_type": "code",
      "source": [
        "pow(4,3)"
      ],
      "metadata": {
        "colab": {
          "base_uri": "https://localhost:8080/"
        },
        "id": "HBphw56cp6X6",
        "outputId": "fbc3a818-70f2-4e44-9cd8-5ae8b979f536"
      },
      "execution_count": null,
      "outputs": [
        {
          "output_type": "execute_result",
          "data": {
            "text/plain": [
              "64"
            ]
          },
          "metadata": {},
          "execution_count": 4
        }
      ]
    },
    {
      "cell_type": "code",
      "source": [
        "81**(1/2)"
      ],
      "metadata": {
        "colab": {
          "base_uri": "https://localhost:8080/"
        },
        "id": "IveH5WsSp8XJ",
        "outputId": "bdbc70e7-6ecf-4e6b-f129-efea1995af81"
      },
      "execution_count": null,
      "outputs": [
        {
          "output_type": "execute_result",
          "data": {
            "text/plain": [
              "9.0"
            ]
          },
          "metadata": {},
          "execution_count": 5
        }
      ]
    },
    {
      "cell_type": "code",
      "source": [
        "'Oi' + 'Olá'"
      ],
      "metadata": {
        "colab": {
          "base_uri": "https://localhost:8080/",
          "height": 35
        },
        "id": "1-3z191NqMLr",
        "outputId": "d730b61f-c587-4893-f329-92f306b7f30a"
      },
      "execution_count": null,
      "outputs": [
        {
          "output_type": "execute_result",
          "data": {
            "text/plain": [
              "'OiOlá'"
            ],
            "application/vnd.google.colaboratory.intrinsic+json": {
              "type": "string"
            }
          },
          "metadata": {},
          "execution_count": 6
        }
      ]
    },
    {
      "cell_type": "code",
      "source": [
        "'Oi' * 5"
      ],
      "metadata": {
        "colab": {
          "base_uri": "https://localhost:8080/",
          "height": 35
        },
        "id": "-yZ7xUQWqR5E",
        "outputId": "e0137a13-5f25-4426-ac26-4a9b3930f44d"
      },
      "execution_count": null,
      "outputs": [
        {
          "output_type": "execute_result",
          "data": {
            "text/plain": [
              "'OiOiOiOiOi'"
            ],
            "application/vnd.google.colaboratory.intrinsic+json": {
              "type": "string"
            }
          },
          "metadata": {},
          "execution_count": 7
        }
      ]
    },
    {
      "cell_type": "code",
      "source": [
        "print('='*20)"
      ],
      "metadata": {
        "colab": {
          "base_uri": "https://localhost:8080/"
        },
        "id": "gJgMOh6QqVmS",
        "outputId": "fc712c5c-b361-4a84-abb6-2720ce48f72e"
      },
      "execution_count": null,
      "outputs": [
        {
          "output_type": "stream",
          "name": "stdout",
          "text": [
            "====================\n"
          ]
        }
      ]
    },
    {
      "cell_type": "code",
      "source": [
        "nome = str(input('Qual é o seu nome? '))\n",
        "print(f'Prazer em te conhecer {nome:=^20}!')"
      ],
      "metadata": {
        "colab": {
          "base_uri": "https://localhost:8080/"
        },
        "id": "LRSdMQvyqkyC",
        "outputId": "6447c4b2-3d1c-4a4e-a089-c486ff038eed"
      },
      "execution_count": null,
      "outputs": [
        {
          "output_type": "stream",
          "name": "stdout",
          "text": [
            "Qual é o seu nome? LG\n",
            "Prazer em te conhecer =========LG=========!\n"
          ]
        }
      ]
    },
    {
      "cell_type": "code",
      "source": [
        "n1 = int(input('Um valor: '))\n",
        "n2 = int(input('Outro valor: '))\n",
        "s = n1 + n2\n",
        "m = n1 * n2\n",
        "d = n1 / n2\n",
        "di = n1 // n2\n",
        "e = n1 ** n2\n",
        "print(f'A soma é {s}, o produto é {m}, a divisão é {d:.3f}', end =' >>> ')\n",
        "print(f'Divisão inteira {di} e potência {e}')"
      ],
      "metadata": {
        "colab": {
          "base_uri": "https://localhost:8080/"
        },
        "id": "IBBB6kVOsGm0",
        "outputId": "32c9e810-f78e-4bfd-c40c-c086f156bc5d"
      },
      "execution_count": null,
      "outputs": [
        {
          "output_type": "stream",
          "name": "stdout",
          "text": [
            "Um valor: 6\n",
            "Outro valor: 6\n",
            "A soma é 12, o produto é 36, a divisão é 1.000 >>> Divisão inteira 1 e potência 46656\n"
          ]
        }
      ]
    },
    {
      "cell_type": "markdown",
      "source": [
        "# Desafio 005\n",
        "Faça um programa que leia um número e mostre na tela o seu sucessor e o seu antecessor."
      ],
      "metadata": {
        "id": "G5Jqta9pt3Lf"
      }
    },
    {
      "cell_type": "code",
      "source": [
        "num01 = int(input('Digite um número: '))\n",
        "a = num01 - 1\n",
        "s = num01 + 1\n",
        "print(f'O sucessor é {s} e o antecessor é {a}')"
      ],
      "metadata": {
        "colab": {
          "base_uri": "https://localhost:8080/"
        },
        "id": "7bAp8_Blak-S",
        "outputId": "3e01eea7-a327-4bd9-9407-d6297f33fe88"
      },
      "execution_count": null,
      "outputs": [
        {
          "output_type": "stream",
          "name": "stdout",
          "text": [
            "Digite um número: 3\n",
            "O sucessor é 4 e o antecessor é 2\n"
          ]
        }
      ]
    },
    {
      "cell_type": "code",
      "source": [
        "num01 = int(input('Digite um número: '))\n",
        "print(f'Analisando o valor {num01}, O sucessor é {num01+1} e o antecessor é {num01-1}')"
      ],
      "metadata": {
        "colab": {
          "base_uri": "https://localhost:8080/"
        },
        "id": "DQeBHotQuW_d",
        "outputId": "265060dd-183e-42ad-c28d-6a5170aae017"
      },
      "execution_count": null,
      "outputs": [
        {
          "output_type": "stream",
          "name": "stdout",
          "text": [
            "Digite um número: 5\n",
            "Analisando o valor 5, O sucessor é 6 e o antecessor é 4\n"
          ]
        }
      ]
    },
    {
      "cell_type": "markdown",
      "source": [
        "# Desafio 006\n",
        "Crie um algoritmo que leia um número e mostre o seu dobro, o triplo e a raiz quadrada"
      ],
      "metadata": {
        "id": "HtI0Y5MsuC4G"
      }
    },
    {
      "cell_type": "code",
      "source": [
        "val = int(input('Digite um número: '))\n",
        "d = val * 2\n",
        "t = val * 3\n",
        "r = pow(val, (1/2))\n",
        "print(f'O dobro de {val} é {d}, \\no triplo é {t} \\ne a raiz quadrada é {r}')"
      ],
      "metadata": {
        "colab": {
          "base_uri": "https://localhost:8080/"
        },
        "id": "IqokLEqYfMMJ",
        "outputId": "cd91f11d-81a0-4d4f-e18b-1d5ca61b823d"
      },
      "execution_count": null,
      "outputs": [
        {
          "output_type": "stream",
          "name": "stdout",
          "text": [
            "Digite um número: 81\n",
            "O dobro de 81 é 162, \n",
            "o triplo é 243 \n",
            "e a raiz quadrada é 9.0\n"
          ]
        }
      ]
    },
    {
      "cell_type": "code",
      "source": [
        "val = int(input('Digite um número: '))\n",
        "print(f'O dobro é {val*2}, o triplo é {val*3}, e a raiz quadrada é {val**(1/2):.2f}')"
      ],
      "metadata": {
        "colab": {
          "base_uri": "https://localhost:8080/"
        },
        "id": "qFNVUal-uXkG",
        "outputId": "8127b162-6080-4222-cd30-5407ad19956c"
      },
      "execution_count": null,
      "outputs": [
        {
          "output_type": "stream",
          "name": "stdout",
          "text": [
            "Digite um número: 81\n",
            "O dobro é 162, o triplo é 243, e a raiz quadrada é 9.00\n"
          ]
        }
      ]
    },
    {
      "cell_type": "markdown",
      "source": [
        "# Desafio 007\n",
        "Desenvolva um programa que leia as duas notas de um aluno, calcule e mostre a sua média"
      ],
      "metadata": {
        "id": "n1QGMwwLuTE3"
      }
    },
    {
      "cell_type": "code",
      "source": [
        "nota1 = float(input('Digite a primeira nota do aluno: '))\n",
        "nota2 = float(input('Digite a segunda nota do aluno: '))\n",
        "media = (nota1 + nota2)/2\n",
        "print(f'A média do aluno é {media:.1f}')"
      ],
      "metadata": {
        "colab": {
          "base_uri": "https://localhost:8080/"
        },
        "id": "7EDF6uYIuq4N",
        "outputId": "c4f211fd-25f1-4061-a5e2-582d56cedd8f"
      },
      "execution_count": null,
      "outputs": [
        {
          "output_type": "stream",
          "name": "stdout",
          "text": [
            "Digite a primeira nota do aluno: 8\n",
            "Digite a segunda nota do aluno: 2\n",
            "A média do aluno é 5.0\n"
          ]
        }
      ]
    },
    {
      "cell_type": "markdown",
      "source": [
        "# Desafio 008\n",
        "Escreva um programa que leia um valor em metros e o exiba convertido em centímetros e milímetros"
      ],
      "metadata": {
        "id": "ONhEi_0RvzxF"
      }
    },
    {
      "cell_type": "code",
      "source": [
        "medida = float(input('Digita uma distância em metros: '))\n",
        "cm = medida * 100\n",
        "mm = medida * 1000\n",
        "print(f'A medida de {medida}m corresponde a {cm} centímetros e {mm} milímetros')"
      ],
      "metadata": {
        "colab": {
          "base_uri": "https://localhost:8080/"
        },
        "id": "vP6CG8CdrAzt",
        "outputId": "8b27f8e9-814c-4cf1-ef2b-49281ea9b362"
      },
      "execution_count": null,
      "outputs": [
        {
          "output_type": "stream",
          "name": "stdout",
          "text": [
            "Digita uma distância em metros: 1.2\n",
            "A medida de 1.2m corresponde a 120.0 centímetros e 1200.0 milímetros\n"
          ]
        }
      ]
    },
    {
      "cell_type": "code",
      "source": [
        "metro = float(input('Digite um valor em metros: '))\n",
        "print(f'Essa metragem tem {metro*100} centímetros e {metro*1000} milímetros')"
      ],
      "metadata": {
        "colab": {
          "base_uri": "https://localhost:8080/"
        },
        "id": "AB6fXuTrwBxO",
        "outputId": "84e728f7-fd86-4af9-cbd6-b545907d0f1c"
      },
      "execution_count": null,
      "outputs": [
        {
          "output_type": "stream",
          "name": "stdout",
          "text": [
            "Digite um valor em metros: 1.2\n",
            "Essa metragem tem 120.0 centímetros e 1200.0 milímetros\n"
          ]
        }
      ]
    },
    {
      "cell_type": "markdown",
      "source": [
        "# Desafio 009\n",
        "Faça um programa que leia um número inteiro qualquer e mostre na tela a sua tabuada"
      ],
      "metadata": {
        "id": "LrMKq8oxvlzF"
      }
    },
    {
      "cell_type": "code",
      "source": [
        "tabu = int(input('Digite um número para ver sua tabuada: '))\n",
        "print('-' * 12)\n",
        "print(f'{tabu} x 1 = {tabu*1}')\n",
        "print(f'{tabu} x 2 = {tabu*2}')\n",
        "print(f'{tabu} x 3 = {tabu*3}')\n",
        "print(f'{tabu} x 4 = {tabu*4}')\n",
        "print(f'{tabu} x 5 = {tabu*5}')\n",
        "print(f'{tabu} x 6 = {tabu*6}')\n",
        "print(f'{tabu} x 7 = {tabu*7}')\n",
        "print(f'{tabu} x 8 = {tabu*8}')\n",
        "print(f'{tabu} x 9 = {tabu*9}')\n",
        "print(f'{tabu} x 10 = {tabu*10}')\n",
        "print('-' * 12)"
      ],
      "metadata": {
        "colab": {
          "base_uri": "https://localhost:8080/"
        },
        "id": "bl2k4AfOvwB9",
        "outputId": "c853efc6-3f3c-4695-aa76-b37f5c3b0d38"
      },
      "execution_count": null,
      "outputs": [
        {
          "output_type": "stream",
          "name": "stdout",
          "text": [
            "Digite um número para ver sua tabuada: 8\n",
            "------------\n",
            "8 x 1 = 8\n",
            "8 x 2 = 16\n",
            "8 x 3 = 24\n",
            "8 x 4 = 32\n",
            "8 x 5 = 40\n",
            "8 x 6 = 48\n",
            "8 x 7 = 56\n",
            "8 x 8 = 64\n",
            "8 x 9 = 72\n",
            "8 x 10 = 80\n",
            "------------\n"
          ]
        }
      ]
    },
    {
      "cell_type": "markdown",
      "source": [
        "# Desafio 010\n",
        "\n",
        "Crie um programa que leia quanto dinheiro uma pessoa tem na carteira e mostre quantos dólares ela pode comprar"
      ],
      "metadata": {
        "id": "9FaNwMzGvwQt"
      }
    },
    {
      "cell_type": "code",
      "source": [
        "real = float(input('Quanto dinheiro você tem na carteira? R$'))\n",
        "dolar = real / 3.27\n",
        "print(f'Com R${real:.2f} você pode comprar US${dolar:.2f}')"
      ],
      "metadata": {
        "colab": {
          "base_uri": "https://localhost:8080/"
        },
        "id": "bPay1xK06tYe",
        "outputId": "7fd70cdf-8052-4fae-9146-1606d8a8ebdf"
      },
      "execution_count": null,
      "outputs": [
        {
          "output_type": "stream",
          "name": "stdout",
          "text": [
            "Quanto dinheiro você tem na carteira? R$125.32\n",
            "Com R$125.32 você pode comprar US$38.32\n"
          ]
        }
      ]
    },
    {
      "cell_type": "code",
      "source": [
        "valor = float(input('Informe quanto você tem na carteira R$: '))\n",
        "print(f'Com R$ {valor} você consegue comprar {valor/5.45:.3f} dólares')"
      ],
      "metadata": {
        "colab": {
          "base_uri": "https://localhost:8080/"
        },
        "id": "_CDu-G32aoiw",
        "outputId": "22b23ed7-84f3-4ee1-d869-87a7f6600adf"
      },
      "execution_count": null,
      "outputs": [
        {
          "output_type": "stream",
          "name": "stdout",
          "text": [
            "Informe quanto você tem na carteira R$: 4000\n",
            "Com R$ 4000.0 você consegue comprar 733.945 dólares\n"
          ]
        }
      ]
    },
    {
      "cell_type": "markdown",
      "source": [
        "# Desafio 011\n",
        "Faça um programa que leia a largura e a altura de uma parede em metros, calcule a sua área e a quantidade de tinta necessária para pintá-la, sabendo que cada litro de tinta pinta uma área de 2m²."
      ],
      "metadata": {
        "id": "rQFEf-NXslIB"
      }
    },
    {
      "cell_type": "code",
      "source": [
        "largura = float(input('Digite a largura da parede: '))\n",
        "altura = float(input('Digite a altura da parede: '))\n",
        "area = largura * altura\n",
        "print(f'Sua parede a dimensão de {largura} x {altura} e a área é {area}m²')\n",
        "print(f'Para pintar essa parede, você vai precisar de {area/2} litros de tinta')"
      ],
      "metadata": {
        "colab": {
          "base_uri": "https://localhost:8080/"
        },
        "id": "9s8uAhnjWmHy",
        "outputId": "83878ad6-23c2-40db-9b3a-a96bd20c0d9f"
      },
      "execution_count": null,
      "outputs": [
        {
          "output_type": "stream",
          "name": "stdout",
          "text": [
            "Digite a largura da parede: 12\n",
            "Digite a altura da parede: 23\n",
            "Sua parede a dimensão de 12.0 x 23.0 e a área é 276.0m²\n",
            "Para pintar essa parede, você vai precisar de 138.0 litros de tinta\n"
          ]
        }
      ]
    },
    {
      "cell_type": "markdown",
      "source": [
        "# Desafio 012\n",
        "Faça um algoritmo que leia o preço de um produto e mostre o seu novo preço com 5% de desconto."
      ],
      "metadata": {
        "id": "_uyoKvQiWwbu"
      }
    },
    {
      "cell_type": "code",
      "source": [
        "price = float(input('Digite o preço do produto: '))\n",
        "porc = price - (price * 5 / 100)\n",
        "print(f'O preço do produto era R${price:.2f}, com 5% de desconto ele custa R${price*0.95:.2f}')\n",
        "print(f'O preço do produto com desconto é {porc}')"
      ],
      "metadata": {
        "colab": {
          "base_uri": "https://localhost:8080/"
        },
        "id": "Rhp_gL23W5pj",
        "outputId": "b015e69e-bebb-48fa-ad43-067068db889b"
      },
      "execution_count": null,
      "outputs": [
        {
          "output_type": "stream",
          "name": "stdout",
          "text": [
            "Digite o preço do produto: 5000\n",
            "O preço do produto era R$5000.00, com 5% de desconto ele custa R$4750.00\n",
            "O preço do produto com desconto é 4750.0\n"
          ]
        }
      ]
    },
    {
      "cell_type": "markdown",
      "source": [
        "# Desafio 013\n",
        "Faça um algoritmo que leia o salário de um funcionário e mostre seu novo salário com 15% de aumento."
      ],
      "metadata": {
        "id": "R1jg2v-hXxri"
      }
    },
    {
      "cell_type": "code",
      "source": [
        "salary = float(input('Digite o valor do seu salário: R$'))\n",
        "increase = salary + (salary * 15 / 100)\n",
        "print(f'O seu salário era R${salary:.2f} com 15% de aumento é R${salary*1.15:.2f}')\n",
        "print(f'O seu salário com 15% de aumento é {increase:.2f}')"
      ],
      "metadata": {
        "colab": {
          "base_uri": "https://localhost:8080/"
        },
        "id": "i9wt_EnZX69g",
        "outputId": "2c987904-0174-4428-b145-04de0a046f14"
      },
      "execution_count": null,
      "outputs": [
        {
          "output_type": "stream",
          "name": "stdout",
          "text": [
            "Digite o valor do seu salário: R$1000\n",
            "O seu salário era R$1000.00 com 15% de aumento é R$1150.00\n",
            "O seu salário com 15% de aumento é 1150.00\n"
          ]
        }
      ]
    },
    {
      "cell_type": "markdown",
      "source": [
        "# Desafio 014\n",
        "\n",
        "Escreva um programa que converta uma temperatura digitando em graus Celsius e converta para graus Fahrenheit."
      ],
      "metadata": {
        "id": "K44KD9R904n7"
      }
    },
    {
      "cell_type": "code",
      "source": [
        "c = float(input('Digite a temperatura em Celsius:° '))\n",
        "f = ((9 * c) / 5) + 32\n",
        "print(f'A tempeparuta em Celsius {c}° equivale a {f}° em Fahrenheit')"
      ],
      "metadata": {
        "colab": {
          "base_uri": "https://localhost:8080/"
        },
        "id": "ERUv0am35dfA",
        "outputId": "4306a588-839b-4800-8e88-062b134e0c14"
      },
      "execution_count": null,
      "outputs": [
        {
          "output_type": "stream",
          "name": "stdout",
          "text": [
            "Digite a temperatura em Celsius:° 32\n",
            "A tempeparuta em Celsius 32.0° equivale a 89.6° em fahrenheit\n"
          ]
        }
      ]
    },
    {
      "cell_type": "markdown",
      "source": [
        "# Desafio 15\n",
        "Escreva um programa que pergunte a quantidade de Km percorridos por um carro alugado e a quantidade de dias pelos quais ele foi alugado. Calcule o preço a pagar, sabendo que o carro custa 60 reais por dia e R$0,15 por Km rodado."
      ],
      "metadata": {
        "id": "yQG6lpuV1ZpV"
      }
    },
    {
      "cell_type": "code",
      "source": [
        "km = float(input('Digite a quantidade de KM percorridas: '))\n",
        "dias = int(input('Digite a quantidade de dias alugados: '))\n",
        "total = (dias * 60) + (km * 0.15)\n",
        "print(f'O total a pagar é de R${total:.2f}')"
      ],
      "metadata": {
        "colab": {
          "base_uri": "https://localhost:8080/"
        },
        "id": "_c-RzlWR117t",
        "outputId": "a5b3a206-345f-4225-c753-0cf56f69e791"
      },
      "execution_count": null,
      "outputs": [
        {
          "output_type": "stream",
          "name": "stdout",
          "text": [
            "Digite a quantidade de KM percorridas: 1000\n",
            "Digite a quantidade de dias alugados: 3\n",
            "O total a pagar é de R$330.00\n"
          ]
        }
      ]
    },
    {
      "cell_type": "markdown",
      "source": [
        "# **AULA 07 - Utilizando Módulos**\n",
        "Nessa aula, vamos aprender como utilizar módulos em Python utilizando os comandos import e from/import no Python. Veja como carregar bibliotecas de funções e utilizar vários recursos adicionais nos seus programas utilizando módulos built-in e módulos externos, oferecidos no Pypi.\n",
        "\n",
        "import(bebida)\n",
        "from(doce(import))pudim\n",
        "\n",
        "math"
      ],
      "metadata": {
        "id": "HIq-XG3-zws_"
      }
    },
    {
      "cell_type": "code",
      "source": [
        "from(math(import))sqrt(9)\n"
      ],
      "metadata": {
        "id": "BFSHT3EY0AMa"
      },
      "execution_count": null,
      "outputs": []
    }
  ]
}